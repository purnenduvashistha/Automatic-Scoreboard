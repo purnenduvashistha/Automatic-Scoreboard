{
 "cells": [
  {
   "cell_type": "code",
   "execution_count": 1,
   "id": "069898bf",
   "metadata": {},
   "outputs": [],
   "source": [
    "import numpy as np\n",
    "import os\n",
    "import pickle\n",
    "from sklearn.svm import LinearSVC\n",
    "from sklearn.metrics import accuracy_score\n",
    "from sklearn.model_selection import train_test_split\n",
    "from sklearn.model_selection import cross_val_score"
   ]
  },
  {
   "cell_type": "code",
   "execution_count": 2,
   "id": "c2e409ac",
   "metadata": {},
   "outputs": [
    {
     "data": {
      "text/plain": [
       "'C:\\\\Users\\\\mailt\\\\Documents\\\\Automatic Scoreboard'"
      ]
     },
     "execution_count": 2,
     "metadata": {},
     "output_type": "execute_result"
    }
   ],
   "source": [
    "os.getcwd()"
   ]
  },
  {
   "cell_type": "code",
   "execution_count": 3,
   "id": "ada2c4c2",
   "metadata": {},
   "outputs": [],
   "source": [
    "umpire = np.load(f'features/model1_umpire.npy')\n",
    "non_umpire = np.load(f'features/model1_non_umpire.npy')\n"
   ]
  },
  {
   "cell_type": "code",
   "execution_count": 4,
   "id": "cc99f920",
   "metadata": {},
   "outputs": [],
   "source": [
    "X_data = np.append(umpire, non_umpire, axis=0)\n",
    "X = X_data[:, 0:(X_data.shape[1]-1)]\n",
    "Y = X_data[:, (X_data.shape[1]-1)]"
   ]
  },
  {
   "cell_type": "code",
   "execution_count": 5,
   "id": "b4a64d9b",
   "metadata": {},
   "outputs": [],
   "source": [
    "X_train, X_test, y_train, y_test = train_test_split(X,Y,test_size=0.2,random_state=42)"
   ]
  },
  {
   "cell_type": "code",
   "execution_count": 6,
   "id": "0673c53a",
   "metadata": {},
   "outputs": [],
   "source": [
    "clf = LinearSVC(C=10)"
   ]
  },
  {
   "cell_type": "code",
   "execution_count": 7,
   "id": "77d90862",
   "metadata": {},
   "outputs": [],
   "source": [
    "clf = clf.fit(X_train,y_train)\n",
    "pred = (clf.predict(X_test))"
   ]
  },
  {
   "cell_type": "code",
   "execution_count": 8,
   "id": "bf7badce",
   "metadata": {},
   "outputs": [
    {
     "name": "stdout",
     "output_type": "stream",
     "text": [
      "Training Accuracy: 0.9705\n"
     ]
    }
   ],
   "source": [
    "scores = cross_val_score(clf, X_train, y_train, cv=10)\n",
    "print('Training Accuracy: %0.4f' % (scores.mean()))"
   ]
  },
  {
   "cell_type": "code",
   "execution_count": 9,
   "id": "bda2d0e7",
   "metadata": {},
   "outputs": [
    {
     "name": "stdout",
     "output_type": "stream",
     "text": [
      "Test Accuracy: 0.9000\n"
     ]
    }
   ],
   "source": [
    "test_sc = accuracy_score(y_test, pred)\n",
    "print('Test Accuracy: %0.4f' % (test_sc))"
   ]
  },
  {
   "cell_type": "code",
   "execution_count": 10,
   "id": "3c3c64bc",
   "metadata": {},
   "outputs": [],
   "source": [
    "pickle.dump(clf, open(f'models/model1_svm.sav', 'wb'))"
   ]
  },
  {
   "cell_type": "code",
   "execution_count": null,
   "id": "67eff92e",
   "metadata": {},
   "outputs": [],
   "source": []
  }
 ],
 "metadata": {
  "kernelspec": {
   "display_name": "Python 3",
   "language": "python",
   "name": "python3"
  },
  "language_info": {
   "codemirror_mode": {
    "name": "ipython",
    "version": 3
   },
   "file_extension": ".py",
   "mimetype": "text/x-python",
   "name": "python",
   "nbconvert_exporter": "python",
   "pygments_lexer": "ipython3",
   "version": "3.8.8"
  }
 },
 "nbformat": 4,
 "nbformat_minor": 5
}
