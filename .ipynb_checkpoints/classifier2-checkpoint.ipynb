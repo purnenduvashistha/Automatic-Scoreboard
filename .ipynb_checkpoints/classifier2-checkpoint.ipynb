{
 "cells": [
  {
   "cell_type": "code",
   "execution_count": 1,
   "id": "dd023289",
   "metadata": {},
   "outputs": [],
   "source": [
    "import numpy as np\n",
    "import os\n",
    "import pickle\n",
    "from sklearn.svm import LinearSVC\n",
    "from sklearn.metrics import accuracy_score\n",
    "from sklearn.model_selection import train_test_split\n",
    "from sklearn.model_selection import cross_val_score"
   ]
  },
  {
   "cell_type": "code",
   "execution_count": 2,
   "id": "04bb6167",
   "metadata": {},
   "outputs": [
    {
     "data": {
      "text/plain": [
       "'C:\\\\Users\\\\mailt\\\\Documents\\\\Automatic Scoreboard'"
      ]
     },
     "execution_count": 2,
     "metadata": {},
     "output_type": "execute_result"
    }
   ],
   "source": [
    "os.getcwd()"
   ]
  },
  {
   "cell_type": "code",
   "execution_count": 3,
   "id": "9380c586",
   "metadata": {},
   "outputs": [],
   "source": [
    "no_ball = np.load(f'features/model2_no_ball.npy')\n",
    "out = np.load(f'features/model2_out.npy')\n",
    "sixes = np.load(f'features/model2_sixes.npy')\n",
    "wide = np.load(f'features/model2_wide.npy')\n",
    "no_action = np.load(f'features/model2_no_action.npy')"
   ]
  },
  {
   "cell_type": "code",
   "execution_count": 4,
   "id": "6016010c",
   "metadata": {},
   "outputs": [],
   "source": [
    "X_data = np.append(no_ball, out, axis=0)\n",
    "X_data = np.append(X_data, sixes, axis=0)\n",
    "X_data = np.append(X_data, wide, axis=0)\n",
    "X_data = np.append(X_data, no_action, axis=0)"
   ]
  },
  {
   "cell_type": "code",
   "execution_count": 5,
   "id": "7fcbb3cb",
   "metadata": {},
   "outputs": [],
   "source": [
    "X = X_data[:, 0:(X_data.shape[1]-1)]\n",
    "Y = X_data[:, (X_data.shape[1]-1)]"
   ]
  },
  {
   "cell_type": "code",
   "execution_count": 6,
   "id": "7181a343",
   "metadata": {},
   "outputs": [],
   "source": [
    "X_train, X_test, y_train, y_test = train_test_split(X,Y,test_size=0.2,random_state=42)"
   ]
  },
  {
   "cell_type": "code",
   "execution_count": 7,
   "id": "aaae9bb8",
   "metadata": {},
   "outputs": [],
   "source": [
    "clf = LinearSVC(C=10)"
   ]
  },
  {
   "cell_type": "code",
   "execution_count": 8,
   "id": "d74537f1",
   "metadata": {},
   "outputs": [],
   "source": [
    "clf = clf.fit(X_train,y_train)\n",
    "pred = (clf.predict(X_test))"
   ]
  },
  {
   "cell_type": "code",
   "execution_count": 9,
   "id": "f0c5f302",
   "metadata": {},
   "outputs": [
    {
     "name": "stderr",
     "output_type": "stream",
     "text": [
      "C:\\Users\\mailt\\anaconda3\\lib\\site-packages\\sklearn\\svm\\_base.py:985: ConvergenceWarning: Liblinear failed to converge, increase the number of iterations.\n",
      "  warnings.warn(\"Liblinear failed to converge, increase \"\n"
     ]
    },
    {
     "name": "stdout",
     "output_type": "stream",
     "text": [
      "Training Accuracy: 0.8230\n"
     ]
    }
   ],
   "source": [
    "scores = cross_val_score(clf, X_train, y_train, cv=10)\n",
    "print('Training Accuracy: %0.4f' % (scores.mean()))"
   ]
  },
  {
   "cell_type": "code",
   "execution_count": 10,
   "id": "e3815dda",
   "metadata": {},
   "outputs": [
    {
     "name": "stdout",
     "output_type": "stream",
     "text": [
      "Test Accuracy: 0.7619\n"
     ]
    }
   ],
   "source": [
    "test_sc = accuracy_score(y_test, pred)\n",
    "print('Test Accuracy: %0.4f' % (test_sc))"
   ]
  },
  {
   "cell_type": "code",
   "execution_count": 11,
   "id": "8d7122c8",
   "metadata": {},
   "outputs": [],
   "source": [
    "pickle.dump(clf, open(f'models/model2_svm.sav', 'wb'))"
   ]
  },
  {
   "cell_type": "code",
   "execution_count": null,
   "id": "9a49d8bd",
   "metadata": {},
   "outputs": [],
   "source": []
  }
 ],
 "metadata": {
  "kernelspec": {
   "display_name": "Python 3",
   "language": "python",
   "name": "python3"
  },
  "language_info": {
   "codemirror_mode": {
    "name": "ipython",
    "version": 3
   },
   "file_extension": ".py",
   "mimetype": "text/x-python",
   "name": "python",
   "nbconvert_exporter": "python",
   "pygments_lexer": "ipython3",
   "version": "3.8.8"
  }
 },
 "nbformat": 4,
 "nbformat_minor": 5
}
